{
 "cells": [
  {
   "cell_type": "code",
   "execution_count": 2,
   "metadata": {
    "collapsed": true
   },
   "outputs": [],
   "source": [
    "import numpy as np\n",
    "import matplotlib.pyplot as plt\n",
    "import math"
   ]
  },
  {
   "cell_type": "markdown",
   "metadata": {},
   "source": [
    "# Portfolio assignment 2: Ehrenfest Urn"
   ]
  },
  {
   "cell_type": "markdown",
   "metadata": {},
   "source": [
    "## Statement of the problem \n",
    "\n",
    "I can construct a Markov chain to solve the following problem:\n",
    "\n",
    "Suppose that you have three cups a red one, a green one and a blue one. And that you also have nine\n",
    "numbered balls. Suppose that three of these balls are in each of the three cups. You next use a use a random number generator to choose a random number X so that\n",
    "X is between 1 and 9. Having chosen an X you then take the Xth ball and remove it from the cup it is currently in and place it in one of the other two cups. There is an equal chance of choosing either of these two cups. \n",
    "\n",
    "I can model this experiment using some simple programming looking specifically at how many balls are in the blue cup as the experiment is repeated. "
   ]
  },
  {
   "cell_type": "markdown",
   "metadata": {},
   "source": [
    "## Research \n",
    "\n",
    "In order to prepare for this report, I had to both understand Markov chains analytically and be able to model simple problems using them. In order to gain the programming skills I needed I completed the following blocky exercise:\n",
    "\n",
    "* http://gtribello.github.io/mathNET/gamblers-ruin-exercise.html\n",
    "\n",
    "This exercise helped me to get the basic thinking and understand how random variables could be used in the model. Furthermore, it helped me to begin to see how to model the memoryless nature of a markov chain in python. In particular, the last section in this blocky exercise helped me understand that the only thing that effected the next step was the current position of the walker. \n",
    "\n",
    "Once I had the basic program running I used the following lecture notes to solidify my understanding of the Limiting stationary distribution of a Markov Chain and how to check for this via the eigenvalues and eigenvetors of the chain. \n",
    "\n",
    "* 'Eigenvalues and Eigenvectors in numpy'\n",
    "* 'Limiting-distribution'\n"
   ]
  },
  {
   "cell_type": "markdown",
   "metadata": {},
   "source": [
    "## Theory"
   ]
  },
  {
   "cell_type": "markdown",
   "metadata": {},
   "source": [
    "### Transition Graph \n",
    "\n",
    "My first step to setting up and solving this problem, before I touched the computer, was to draw out the transition graph for this Markov chain. When we want to track how many balls are in the blue cup, then our Markov chain can take 10 different states; X=0,1,2...9. Where X is the number of balls in the blue cup. \n",
    "\n",
    "Since this Markov chain occurs in discrete time steps and we only move one ball per time step then we know that X can only ever increase by 1, decrease by 1 or stay the same.  \n",
    "\n",
    "Of course, we also need to take into consideration the endpoints where X=0 and X=9. In these states, there is only 1 possible direction X can go. Specifically if X=0 there are no balls in the blue cup and so no balls could possibly be removed from the blue cup. In this scenario X can only increase or stay the same in the next time step. Similarly when there are 9 balls in the blue cup then 1 ball must be removed and so X must decrease by 1.\n",
    "\n",
    "And so we produce the following transition graph:\n",
    "\n",
    "![alttext](Transitiongraph5.png)\n"
   ]
  },
  {
   "cell_type": "markdown",
   "metadata": {},
   "source": [
    "### Transition Matrix"
   ]
  },
  {
   "cell_type": "markdown",
   "metadata": {},
   "source": [
    "My next step in approaching this problem was to consider each of the probabilities that needed to be assigned to my transition graph and write these in the transition matrix. \n",
    "\n",
    "Firstly I considered the starting case where there are 3 balls in each cup and then I extended this logic to other scenarios. When I start with 3 balls in each cup, there is obviously 3 balls in the blue cup and so X=3 is the state I start in. \n",
    "\n",
    "For X to increase to 4 a ball would have to be taken from one of the other two cups and placed into the blue cup. The probability that a ball would be taken from the red cup is $\\frac{3}{9}$ and the green cup $\\frac{3}{9}$. Therefore the probability that a ball is taken from one of the other 2 cups is $\\frac{6}{9}$. Now once we take a ball from one of the other two cups we know that the probability that we place it in the blue cup is $\\frac{1}{2}$. As such we can now see that the probability that we take a ball from red or green and place it in blue is $$ \\frac{6}{9} \\times \\frac{1}{2} = \\frac{1}{3}$$\n",
    "\n",
    "And so the probability that X changes from X=3 to X=4 in one time step is $\\frac{1}{3}$.\n",
    "\n",
    "I used similar logic and considered every possible outcome to produce the following transition matrix:\n",
    "\n",
    "$$\n",
    "\\mathbf{A} = \\left(\n",
    "\\begin{matrix}\n",
    "\\frac{1}{2} & \\frac{1}{2} & 0 & 0 & 0 & 0 & 0 & 0 & 0 & 0 \\\\\n",
    "\\frac{1}{9} & \\frac{4}{9} & \\frac{4}{9} & 0 & 0 & 0 & 0 & 0 & 0 & 0 \\\\\n",
    "0 & \\frac{2}{9} & \\frac{7}{18} & \\frac{7}{18} & 0 & 0 & 0 & 0 & 0 & 0 \\\\\n",
    "0 & 0 & \\frac{3}{9} & \\frac{1}{3} & \\frac{1}{3} & 0 & 0 & 0 & 0 & 0 \\\\\n",
    "0 & 0 & 0 & \\frac{4}{9} & \\frac{5}{18} & \\frac{5}{18} & 0 & 0 & 0 & 0 \\\\\n",
    "0 & 0 & 0 & 0 & \\frac{5}{9} & \\frac{2}{9} & \\frac{2}{9} & 0 & 0 & 0 \\\\\n",
    "0 & 0 & 0 & 0 & 0 & \\frac{6}{9} & \\frac{3}{18} & \\frac{3}{18} & 0 & 0 \\\\\n",
    "0 & 0 & 0 & 0 & 0 & 0 & \\frac{7}{9} & \\frac{1}{9} & \\frac{1}{9} & 0 \\\\\n",
    "0 & 0 & 0 & 0 & 0 & 0 & 0 & \\frac{8}{9} & \\frac{1}{18} & \\frac{1}{18} \\\\\n",
    "0 & 0 & 0 & 0 & 0 & 0 & 0 & 0 & 1 & 0\n",
    "\\end{matrix}\n",
    "\\right)\n",
    "$$"
   ]
  },
  {
   "cell_type": "markdown",
   "metadata": {},
   "source": [
    "## Software"
   ]
  },
  {
   "cell_type": "markdown",
   "metadata": {},
   "source": [
    "### Generating random numbers\n",
    "\n",
    "To generate a random number between 1 and 9 I wrote the following function."
   ]
  },
  {
   "cell_type": "code",
   "execution_count": 25,
   "metadata": {
    "collapsed": false
   },
   "outputs": [],
   "source": [
    "R=np.random.randint(1,9)"
   ]
  },
  {
   "cell_type": "markdown",
   "metadata": {},
   "source": [
    "### How many balls are in the blue cup?\n",
    "\n",
    "I wrote the following function to track how many balls are in the blue cup after a number of steps. Throughout the code 'X' tracks the number of balls in the blue cup. The function takes 'start' to be the number of balls in the blue cup at the beginning of the experiment. Then the probability that our randomly generated number is in the blue cup is $\\frac{X}{9}$, if this is true then we decrease X by one as we are removing the ball from the blue cup. If the randomly generated number that we choose was not a ball in the blue cup then there are two possibilities: \n",
    "1. The ball is taken from either the red or green cup and placed in the blue cup. In this case X increases by 1.\n",
    "2. The ball is taken from red to green or green to red in which case there is no effect on X (the number of balls in blue).\n",
    "\n",
    "The function considers all possibilities and returns the number of balls in the blue cup. The process is repeated 'steps' number of times."
   ]
  },
  {
   "cell_type": "code",
   "execution_count": 3,
   "metadata": {
    "collapsed": true
   },
   "outputs": [],
   "source": [
    "def blue(start,steps,p):\n",
    "    X=start\n",
    "    N=0\n",
    "    for i in range (steps):\n",
    "        N=N+1\n",
    "        if np.random.uniform(0,1)<X/9:\n",
    "            X=X-1\n",
    "        if np.random.uniform(0,1)<p:\n",
    "                X=X+1\n",
    "        else:\n",
    "                X=X\n",
    "            \n",
    "    return X"
   ]
  },
  {
   "cell_type": "markdown",
   "metadata": {},
   "source": [
    "The example below tracks shows how many balls are in the blue cup when the process is repeated 500 times"
   ]
  },
  {
   "cell_type": "code",
   "execution_count": 4,
   "metadata": {
    "collapsed": false
   },
   "outputs": [
    {
     "data": {
      "text/plain": [
       "4"
      ]
     },
     "execution_count": 4,
     "metadata": {},
     "output_type": "execute_result"
    }
   ],
   "source": [
    "blue(3,500,0.5)"
   ]
  },
  {
   "cell_type": "markdown",
   "metadata": {},
   "source": [
    "### Histogram of state after 500 steps\n",
    "\n"
   ]
  },
  {
   "cell_type": "markdown",
   "metadata": {},
   "source": [
    "The following function *mean(n)* takes a value n which should be 1 of the 10 possible states X can take. The function runs 1000 times and each time it calculates the *blue(3,500,0.5)* function which finds which state X will be in after 500 steps. The mean function counts how many times out of our total 1000 that our end state was n. It then calculates the fraction of time that X ended in that state. "
   ]
  },
  {
   "cell_type": "code",
   "execution_count": 72,
   "metadata": {
    "collapsed": true
   },
   "outputs": [],
   "source": [
    "def mean(n):\n",
    "    yvals=[0]*1000\n",
    "\n",
    "    for i in range (1000):\n",
    "        z=blue(3,500,0.5)\n",
    "        yvals[z]=yvals[z]+1\n",
    "\n",
    "    for j in range (10):\n",
    "        yvals[j]=yvals[j]/1000\n",
    "    mn=yvals[n]\n",
    "    return mn"
   ]
  },
  {
   "cell_type": "markdown",
   "metadata": {},
   "source": [
    "I then utilize the function I have just written to create a histogram which plots the average fraction of time spent in each state as calculated by the mean function and also plots the error bars for these averages. This is an example of averages found by the resampling method. Bootstrapping could be used instead of resampling in this case however for many Markov chains the variables being sampled are not independent and so bootstrapping could not be used."
   ]
  },
  {
   "cell_type": "code",
   "execution_count": 73,
   "metadata": {
    "collapsed": false
   },
   "outputs": [
    {
     "data": {
      "image/png": "[encoded data removed]",
      "text/plain": [
       "<matplotlib.figure.Figure at 0x1f822c10d68>"
      ]
     },
     "metadata": {},
     "output_type": "display_data"
    }
   ],
   "source": [
    "xvals=[0]*10\n",
    "yvals=[0]*10\n",
    "error=[0]*10\n",
    "for j in range (10):\n",
    "        m=[0]*10\n",
    "        xvals[j]=j\n",
    "        for i in range(10):\n",
    "            m[i]=mean(j)\n",
    "\n",
    "        m.sort()\n",
    "        splmean1=sum(m)/10  \n",
    "        UC1=m[math.floor(19/2)]-splmean1\n",
    "        LC1=splmean1-m[math.floor(1/2)]\n",
    "        error[j]=max(LC1,UC1)\n",
    "        yvals[j]=splmean1\n",
    "\n",
    "fig, ax= plt.subplots()\n",
    "prob=ax.bar(xvals, yvals, 10*[0.5], yerr=error)\n",
    "ax.set_title('Fraction of times Blue cup ends in state X after 500 steps')\n",
    "ax.set_xlabel(\"Number of balls in Blue cup\")\n",
    "ax.set_ylabel(\"P(X=x)\")\n",
    "plt.show()"
   ]
  },
  {
   "cell_type": "markdown",
   "metadata": {},
   "source": [
    "### Histogram of time spent in each state"
   ]
  },
  {
   "cell_type": "markdown",
   "metadata": {},
   "source": [
    "In a similar way to what I have done above, I am here plotting a histogram. This time however I have written my code to track what state X is in after each individual step and not just where it ends up after 500 steps. Once again I used resampling to create error bars. The histogram that I produced plots the state X is in against the fraction of time that the chain spent in this state. "
   ]
  },
  {
   "cell_type": "code",
   "execution_count": 62,
   "metadata": {
    "collapsed": false
   },
   "outputs": [],
   "source": [
    "def move(X):\n",
    "    if np.random.uniform(0,1)<X/9: return X-1\n",
    "    if np.random.uniform(0,1)<0.5: return X+1\n",
    "    return X\n",
    "\n",
    "def hist(nsteps):\n",
    "    nsteps, state, histo = 10000,3, 10*[0]\n",
    "    for i in range(nsteps):\n",
    "        state = move(state)\n",
    "        histo[state] = histo[state] + 1\n",
    "\n",
    "    for i in range(10) : histo[i] = histo[i] / nsteps\n",
    "    return histo"
   ]
  },
  {
   "cell_type": "code",
   "execution_count": 65,
   "metadata": {
    "collapsed": false
   },
   "outputs": [],
   "source": [
    "histo_samples = np.zeros([100,10])\n",
    "for i in range(100) : histo_samples[i] = hist(1000)"
   ]
  },
  {
   "cell_type": "code",
   "execution_count": 74,
   "metadata": {
    "collapsed": false
   },
   "outputs": [
    {
     "data": {
      "image/png": "[encoded data removed]",
      "text/plain": [
       "<matplotlib.figure.Figure at 0x1f822c10828>"
      ]
     },
     "metadata": {},
     "output_type": "display_data"
    }
   ],
   "source": [
    "lower, upper, mean = 10*[0], 10*[0], 10*[0]\n",
    "xvals = np.linspace( 0, 9, 10 )\n",
    "for j in range(10):\n",
    "    mean[j] = sum( histo_samples[:,j]) / len( histo_samples[:,j] )\n",
    "    sortedl = np.sort( histo_samples[:,j] )\n",
    "    lower[j] = mean[j] - sortedl[4]\n",
    "    upper[j] = sortedl[94] - mean[j]\n",
    "    \n",
    "fig, ax= plt.subplots()\n",
    "prob=ax.bar(xvals,mean,10*[0.5],yerr=[lower,upper])\n",
    "plt.title('Fraction of time spent in each state')\n",
    "plt.xlabel(\"Number of balls in Blue cup\")\n",
    "plt.ylabel(\"Fraction of time spent in this state\")\n",
    "plt.show()"
   ]
  },
  {
   "cell_type": "markdown",
   "metadata": {},
   "source": [
    "### Is there a stationary distribution?"
   ]
  },
  {
   "cell_type": "markdown",
   "metadata": {},
   "source": [
    "My final pieces of software allow me to find the stationary distribution of the Markov chain and furthermore investigate whether it has a limiting stationary distribution. In order to check this I need to use my transition matrix. I have written my transition matrix into an array that can easily be manipulated using linear algebra methods. As you can see the process of creating the transition matrix is much more simplified than that described in the theory section. This is because I noticed patterns of how the probabilities were related to the number of balls currently in the blue cup. "
   ]
  },
  {
   "cell_type": "code",
   "execution_count": 11,
   "metadata": {
    "collapsed": false
   },
   "outputs": [],
   "source": [
    "X=[0]*10\n",
    "X[0]=[0.5,0.5,0,0,0,0,0,0,0,0]\n",
    "X[9]=[0,0,0,0,0,0,0,0,1,0]\n",
    "for i in range(1,9):\n",
    "    m=[0]*10\n",
    "    m[i-1]=i/9\n",
    "    m[i]=((9-i)/9)*0.5\n",
    "    m[i+1]=((9-i)/9)*0.5\n",
    "    X[i]=m\n"
   ]
  },
  {
   "cell_type": "code",
   "execution_count": 12,
   "metadata": {
    "collapsed": false
   },
   "outputs": [
    {
     "name": "stdout",
     "output_type": "stream",
     "text": [
      "[[ 0.5         0.5         0.          0.          0.          0.          0.\n",
      "   0.          0.          0.        ]\n",
      " [ 0.11111111  0.44444444  0.44444444  0.          0.          0.          0.\n",
      "   0.          0.          0.        ]\n",
      " [ 0.          0.22222222  0.38888889  0.38888889  0.          0.          0.\n",
      "   0.          0.          0.        ]\n",
      " [ 0.          0.          0.33333333  0.33333333  0.33333333  0.          0.\n",
      "   0.          0.          0.        ]\n",
      " [ 0.          0.          0.          0.44444444  0.27777778  0.27777778\n",
      "   0.          0.          0.          0.        ]\n",
      " [ 0.          0.          0.          0.          0.55555556  0.22222222\n",
      "   0.22222222  0.          0.          0.        ]\n",
      " [ 0.          0.          0.          0.          0.          0.66666667\n",
      "   0.16666667  0.16666667  0.          0.        ]\n",
      " [ 0.          0.          0.          0.          0.          0.\n",
      "   0.77777778  0.11111111  0.11111111  0.        ]\n",
      " [ 0.          0.          0.          0.          0.          0.          0.\n",
      "   0.88888889  0.05555556  0.05555556]\n",
      " [ 0.          0.          0.          0.          0.          0.          0.\n",
      "   0.          1.          0.        ]]\n"
     ]
    }
   ],
   "source": [
    "A=np.array(X)\n",
    "print(A)"
   ]
  },
  {
   "cell_type": "markdown",
   "metadata": {},
   "source": [
    "The stationary distribution of a Markov chain is a probability distribution that remains unchanged as time progresses. The stationary distribution is a row vector that satisfies the following;$$\\pi A = \\pi$$ \n",
    "where $\\pi$ is the stationary distribution.\n",
    "\n",
    "\n",
    "We know that eigenvalues and eigenvectors satisfy the equation $$Av=\\lambda v$$The stationary distribution, equal to the top left eigenvector of the transition matrix. Notice that these two equations are very similar, however, a stationary distribution requires the eigenvalue $\\lambda $ to equal one and the eigenvalues are being taken on the left in the second equation, whereas they were on the right in the first equation. The eigenvector with an eigenvalue of 1 will, therefore, be top left eigenvector and this should be our stationary distribution. To get the top left and not the top right eigenvector we must first take the transpose of A and the extract its first eigenvector."
   ]
  },
  {
   "cell_type": "code",
   "execution_count": 13,
   "metadata": {
    "collapsed": false
   },
   "outputs": [],
   "source": [
    "eigvals, eigvecs = np.linalg.eig( A.transpose() )"
   ]
  },
  {
   "cell_type": "code",
   "execution_count": 14,
   "metadata": {
    "collapsed": false
   },
   "outputs": [
    {
     "name": "stdout",
     "output_type": "stream",
     "text": [
      "[ -5.85383655e-02  -2.63422645e-01  -5.26845289e-01  -6.14652837e-01\n",
      "  -4.60989628e-01  -2.30494814e-01  -7.68316047e-02  -1.64639153e-02\n",
      "  -2.05798941e-03  -1.14332745e-04]\n"
     ]
    }
   ],
   "source": [
    "print( eigvecs[:,0] )"
   ]
  },
  {
   "cell_type": "markdown",
   "metadata": {},
   "source": [
    "It can be seen that the top left eigenvector, in this case, is not equal to the stationary distribution as all the elements are negative and the elements do not sum to one as shown below. Therefore this would not be a suitable probabilty distribution."
   ]
  },
  {
   "cell_type": "code",
   "execution_count": 15,
   "metadata": {
    "collapsed": false
   },
   "outputs": [
    {
     "name": "stdout",
     "output_type": "stream",
     "text": [
      "-2.25041142082\n"
     ]
    }
   ],
   "source": [
    "print( sum(eigvecs[:,0]) )"
   ]
  },
  {
   "cell_type": "markdown",
   "metadata": {},
   "source": [
    "As stated previously the stationary distribution is the top left eigenvector and so although this does not have the properties that we need we are going to use it. The top left eigenvector needs to be normalised so that it sums to one. We do this by dividing each element of the eigenvector by the sum of the eigenvector. This process is carried out below."
   ]
  },
  {
   "cell_type": "code",
   "execution_count": 16,
   "metadata": {
    "collapsed": false
   },
   "outputs": [
    {
     "name": "stdout",
     "output_type": "stream",
     "text": [
      "The stationary distribution is [0.026012294873748953, 0.1170553269318706, 0.23411065386374086, 0.27312909617436409, 0.20484682213077235, 0.10242341106538584, 0.0341411370217952, 0.0073159579332418056, 0.00091449474165522363, 5.0805263425290078e-05] as you can see this sums to  1.0\n"
     ]
    }
   ],
   "source": [
    "inorm = sum(eigvecs[:,0] )\n",
    "limdist = len(eigvecs[:,0])*[0]\n",
    "for i in range( len(limdist) ) : limdist[i] = eigvecs[i,0] / inorm\n",
    "print(\"The stationary distribution is\", limdist, \"as you can see this sums to \", sum(limdist))"
   ]
  },
  {
   "cell_type": "markdown",
   "metadata": {},
   "source": [
    "We can check that our outcome is indeed our stationary distribution by comupting $\\pi A = \\pi$. "
   ]
  },
  {
   "cell_type": "code",
   "execution_count": 17,
   "metadata": {
    "collapsed": false
   },
   "outputs": [
    {
     "data": {
      "text/plain": [
       "array([  2.60122949e-02,   1.17055327e-01,   2.34110654e-01,\n",
       "         2.73129096e-01,   2.04846822e-01,   1.02423411e-01,\n",
       "         3.41411370e-02,   7.31595793e-03,   9.14494742e-04,\n",
       "         5.08052634e-05])"
      ]
     },
     "execution_count": 17,
     "metadata": {},
     "output_type": "execute_result"
    }
   ],
   "source": [
    "np.matmul(limdist,A)"
   ]
  },
  {
   "cell_type": "markdown",
   "metadata": {},
   "source": [
    "### Comparison"
   ]
  },
  {
   "cell_type": "code",
   "execution_count": 75,
   "metadata": {
    "collapsed": false
   },
   "outputs": [
    {
     "data": {
      "image/png": "[encoded data removed]",
      "text/plain": [
       "<matplotlib.figure.Figure at 0x1f822c10588>"
      ]
     },
     "metadata": {},
     "output_type": "display_data"
    }
   ],
   "source": [
    "xvals1=[0]*10\n",
    "xvals2=[0]*10\n",
    "sdist=[0]*10\n",
    "error=[0]*10\n",
    "for j in range (10):\n",
    "        m=[0]*100\n",
    "        xvals1[j]=j-0.2\n",
    "        xvals2[j]=j+0.2\n",
    "lower, upper, mean = 10*[0], 10*[0], 10*[0]\n",
    "xvals = np.linspace( 0, 9, 10 )\n",
    "for j in range(10):\n",
    "    mean[j] = sum( histo_samples[:,j]) / len( histo_samples[:,j] )\n",
    "    sortedl = np.sort( histo_samples[:,j] )\n",
    "    lower[j] = mean[j] - sortedl[4]\n",
    "    upper[j] = sortedl[94] - mean[j] \n",
    "    \n",
    "fig, ax= plt.subplots()\n",
    "prob=ax.bar(xvals1, mean, 10*[0.4], yerr=[lower,upper] ,label='Sampling')\n",
    "prob=ax.bar(xvals2, limdist, 10*[0.4], label='Stationary Distribution')\n",
    "ax.set_title('Comparison of Fraction of time spent in each state and Stationary distribution')\n",
    "ax.legend=()\n",
    "ax.set_xlabel(\"Number of balls in Blue cup\")\n",
    "ax.set_ylabel(\"P(X=x)\")\n",
    "plt.show()"
   ]
  }
 ],
 "metadata": {
  "kernelspec": {
   "display_name": "Python 3",
   "language": "python",
   "name": "python3"
  },
  "language_info": {
   "codemirror_mode": {
    "name": "ipython",
    "version": 3
   },
   "file_extension": ".py",
   "mimetype": "text/x-python",
   "name": "python",
   "nbconvert_exporter": "python",
   "pygments_lexer": "ipython3",
   "version": "3.6.0"
  }
 },
 "nbformat": 4,
 "nbformat_minor": 2
}
